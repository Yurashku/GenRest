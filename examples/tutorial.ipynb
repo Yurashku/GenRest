{
 "cells": [
  {
   "cell_type": "markdown",
   "metadata": {},
   "source": [
    "# Пример использования\n",
    "Алгоритм принимает категориальные признаки и разбивает их на группы, чтобы уменьшить разброс целевой переменной."
   ]
  },
  {
   "cell_type": "code",
   "metadata": {},
   "execution_count": 1,
   "source": [
    "import pandas as pd\n",
    "from genrest.genetic_stratifier import GeneticStratifier\n",
    "\n",
    "data = pd.DataFrame({\n",
    "    'color': ['red', 'blue', 'green', 'red', 'blue', 'green'],\n",
    "    'shape': ['circle', 'square', 'triangle', 'circle', 'square', 'triangle'],\n",
    "    'y': [2.0, 1.0, 0.5, 2.1, 1.2, 0.4],\n",
    "})\n",
    "data"
   ],
   "outputs": [
    {
     "output_type": "execute_result",
     "execution_count": 1,
     "data": {
      "text/plain": [
       "  color     shape    y\n",
       "0   red    circle  2.0\n",
       "1  blue    square  1.0\n",
       "2 green  triangle  0.5\n",
       "3   red    circle  2.1\n",
       "4  blue    square  1.2\n",
       "5 green  triangle  0.4"
      ]
     },
     "metadata": {}
    }
   ]
  },
  {
   "cell_type": "code",
   "metadata": {},
   "execution_count": 2,
   "source": [
    "stratifier = GeneticStratifier(\n",
    "    strat_columns=['color', 'shape'],\n",
    "    target_col='y',\n",
    "    population_size=10,\n",
    "    generations=5,\n",
    "    random_state=0,\n",
    ")\n",
    "best = stratifier.fit(data)\n",
    "best, stratifier.best_score_"
   ],
   "outputs": [
    {
     "output_type": "execute_result",
     "execution_count": 2,
     "data": {
      "text/plain": [
       "(Stratification(boundaries={'color': {'red': 1, 'blue': 0, 'green': 2}, 'shape': {'circle': 1, 'square': 0, 'triangle': 2}}), 0.0)"
      ]
     },
     "metadata": {}
    }
   ]
  }
 ],
 "metadata": {
  "kernelspec": {
   "display_name": "Python 3",
   "language": "python",
   "name": "python3"
  },
  "language_info": {
   "name": "python",
   "version": "3.9"
  }
 },
 "nbformat": 4,
 "nbformat_minor": 5
}
