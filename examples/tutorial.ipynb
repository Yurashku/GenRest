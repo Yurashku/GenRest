{
 "cells": [
  {
   "cell_type": "code",
   "execution_count": 1,
   "id": "54fe39b4",
   "metadata": {
    "execution": {
     "iopub.execute_input": "2025-10-22T15:41:04.663141Z",
     "iopub.status.busy": "2025-10-22T15:41:04.662842Z",
     "iopub.status.idle": "2025-10-22T15:41:04.670326Z",
     "shell.execute_reply": "2025-10-22T15:41:04.668245Z"
    }
   },
   "outputs": [],
   "source": [
    "import sys\n",
    "from pathlib import Path\n",
    "project_root = Path.cwd().resolve().parent\n",
    "if str(project_root) not in sys.path:\n",
    "    sys.path.insert(0, str(project_root))\n"
   ]
  },
  {
   "cell_type": "markdown",
   "id": "a4ca3c8a",
   "metadata": {},
   "source": [
    "# Генетическая стратификация\n",
    "\n",
    "Этот ноутбук показывает, как использовать взаимозаменяемые алгоритмы **GenRest** на синтетическом наборе из 600 наблюдений. Мы зададим выраженные зависимости между цветом, формой и возрастом, преобразуем возраст в категории, а затем запустим `GeneticStratificationAlgorithm`, чтобы увидеть заметное снижение дисперсии по сравнению с «сырыми» данными."
   ]
  },
  {
   "cell_type": "code",
   "execution_count": 2,
   "id": "b77f4238",
   "metadata": {
    "execution": {
     "iopub.execute_input": "2025-10-22T15:41:04.673724Z",
     "iopub.status.busy": "2025-10-22T15:41:04.673406Z",
     "iopub.status.idle": "2025-10-22T15:41:05.307820Z",
     "shell.execute_reply": "2025-10-22T15:41:05.306269Z"
    }
   },
   "outputs": [
    {
     "data": {
      "text/html": [
       "<div>\n",
       "<style scoped>\n",
       "    .dataframe tbody tr th:only-of-type {\n",
       "        vertical-align: middle;\n",
       "    }\n",
       "\n",
       "    .dataframe tbody tr th {\n",
       "        vertical-align: top;\n",
       "    }\n",
       "\n",
       "    .dataframe thead th {\n",
       "        text-align: right;\n",
       "    }\n",
       "</style>\n",
       "<table border=\"1\" class=\"dataframe\">\n",
       "  <thead>\n",
       "    <tr style=\"text-align: right;\">\n",
       "      <th></th>\n",
       "      <th>color</th>\n",
       "      <th>shape</th>\n",
       "      <th>age</th>\n",
       "      <th>y</th>\n",
       "    </tr>\n",
       "  </thead>\n",
       "  <tbody>\n",
       "    <tr>\n",
       "      <th>0</th>\n",
       "      <td>amber</td>\n",
       "      <td>circle</td>\n",
       "      <td>53.904412</td>\n",
       "      <td>7.018824</td>\n",
       "    </tr>\n",
       "    <tr>\n",
       "      <th>1</th>\n",
       "      <td>ruby</td>\n",
       "      <td>square</td>\n",
       "      <td>56.275646</td>\n",
       "      <td>6.974324</td>\n",
       "    </tr>\n",
       "    <tr>\n",
       "      <th>2</th>\n",
       "      <td>ruby</td>\n",
       "      <td>square</td>\n",
       "      <td>47.098692</td>\n",
       "      <td>5.598500</td>\n",
       "    </tr>\n",
       "    <tr>\n",
       "      <th>3</th>\n",
       "      <td>ruby</td>\n",
       "      <td>square</td>\n",
       "      <td>35.296698</td>\n",
       "      <td>4.552813</td>\n",
       "    </tr>\n",
       "    <tr>\n",
       "      <th>4</th>\n",
       "      <td>teal</td>\n",
       "      <td>square</td>\n",
       "      <td>35.910173</td>\n",
       "      <td>-1.725747</td>\n",
       "    </tr>\n",
       "  </tbody>\n",
       "</table>\n",
       "</div>"
      ],
      "text/plain": [
       "   color   shape        age         y\n",
       "0  amber  circle  53.904412  7.018824\n",
       "1   ruby  square  56.275646  6.974324\n",
       "2   ruby  square  47.098692  5.598500\n",
       "3   ruby  square  35.296698  4.552813\n",
       "4   teal  square  35.910173 -1.725747"
      ]
     },
     "execution_count": 2,
     "metadata": {},
     "output_type": "execute_result"
    }
   ],
   "source": [
    "import pandas as pd\n",
    "import numpy as np\n",
    "from genrest import (\n",
    "    GeneticStratificationAlgorithm,\n",
    "    InheritedGeneticStratificationAlgorithm,\n",
    "    bin_numeric,\n",
    ")\n",
    "\n",
    "rng = np.random.default_rng(0)\n",
    "colors = rng.choice([\"ruby\", \"amber\", \"teal\"], size=600, p=[0.45, 0.35, 0.2])\n",
    "shapes = rng.choice([\"circle\", \"square\", \"triangle\"], size=600, p=[0.4, 0.4, 0.2])\n",
    "age = rng.normal(42, 11, size=600)\n",
    "\n",
    "color_effect = np.select(\n",
    "    [colors == \"ruby\", colors == \"amber\"],\n",
    "    [4.5, 2.0],\n",
    "    default=-1.5,\n",
    ")\n",
    "shape_effect = np.select(\n",
    "    [shapes == \"circle\", shapes == \"square\"],\n",
    "    [3.0, -0.5],\n",
    "    default=-2.0,\n",
    ")\n",
    "age_effect = np.select(\n",
    "    [age < 35, age < 45, age < 55],\n",
    "    [-1.0, 0.5, 2.0],\n",
    "    default=3.2,\n",
    ")\n",
    "\n",
    "y = color_effect + shape_effect + age_effect + rng.normal(0, 0.4, size=600)\n",
    "\n",
    "data = pd.DataFrame({\n",
    "    \"color\": colors,\n",
    "    \"shape\": shapes,\n",
    "    \"age\": age,\n",
    "    \"y\": y,\n",
    "})\n",
    "\n",
    "data.head()"
   ]
  },
  {
   "cell_type": "markdown",
   "id": "c7fd183c",
   "metadata": {},
   "source": [
    "Преобразуем числовой столбец `age` в четыре категории с помощью функции `bin_numeric` и посмотрим на результат."
   ]
  },
  {
   "cell_type": "code",
   "execution_count": 3,
   "id": "1ba99661",
   "metadata": {
    "execution": {
     "iopub.execute_input": "2025-10-22T15:41:05.311734Z",
     "iopub.status.busy": "2025-10-22T15:41:05.311156Z",
     "iopub.status.idle": "2025-10-22T15:41:05.330735Z",
     "shell.execute_reply": "2025-10-22T15:41:05.329503Z"
    }
   },
   "outputs": [
    {
     "data": {
      "text/html": [
       "<div>\n",
       "<style scoped>\n",
       "    .dataframe tbody tr th:only-of-type {\n",
       "        vertical-align: middle;\n",
       "    }\n",
       "\n",
       "    .dataframe tbody tr th {\n",
       "        vertical-align: top;\n",
       "    }\n",
       "\n",
       "    .dataframe thead th {\n",
       "        text-align: right;\n",
       "    }\n",
       "</style>\n",
       "<table border=\"1\" class=\"dataframe\">\n",
       "  <thead>\n",
       "    <tr style=\"text-align: right;\">\n",
       "      <th></th>\n",
       "      <th>color</th>\n",
       "      <th>shape</th>\n",
       "      <th>age</th>\n",
       "      <th>y</th>\n",
       "    </tr>\n",
       "  </thead>\n",
       "  <tbody>\n",
       "    <tr>\n",
       "      <th>0</th>\n",
       "      <td>amber</td>\n",
       "      <td>circle</td>\n",
       "      <td>(49.913, 72.161]</td>\n",
       "      <td>7.018824</td>\n",
       "    </tr>\n",
       "    <tr>\n",
       "      <th>1</th>\n",
       "      <td>ruby</td>\n",
       "      <td>square</td>\n",
       "      <td>(49.913, 72.161]</td>\n",
       "      <td>6.974324</td>\n",
       "    </tr>\n",
       "    <tr>\n",
       "      <th>2</th>\n",
       "      <td>ruby</td>\n",
       "      <td>square</td>\n",
       "      <td>(42.273, 49.913]</td>\n",
       "      <td>5.598500</td>\n",
       "    </tr>\n",
       "    <tr>\n",
       "      <th>3</th>\n",
       "      <td>ruby</td>\n",
       "      <td>square</td>\n",
       "      <td>(33.789, 42.273]</td>\n",
       "      <td>4.552813</td>\n",
       "    </tr>\n",
       "    <tr>\n",
       "      <th>4</th>\n",
       "      <td>teal</td>\n",
       "      <td>square</td>\n",
       "      <td>(33.789, 42.273]</td>\n",
       "      <td>-1.725747</td>\n",
       "    </tr>\n",
       "  </tbody>\n",
       "</table>\n",
       "</div>"
      ],
      "text/plain": [
       "   color   shape               age         y\n",
       "0  amber  circle  (49.913, 72.161]  7.018824\n",
       "1   ruby  square  (49.913, 72.161]  6.974324\n",
       "2   ruby  square  (42.273, 49.913]  5.598500\n",
       "3   ruby  square  (33.789, 42.273]  4.552813\n",
       "4   teal  square  (33.789, 42.273] -1.725747"
      ]
     },
     "execution_count": 3,
     "metadata": {},
     "output_type": "execute_result"
    }
   ],
   "source": [
    "bin_numeric(data, 'age', bins=4)\n",
    "data.head()"
   ]
  },
  {
   "cell_type": "markdown",
   "id": "2c35407e",
   "metadata": {},
   "source": [
    "Теперь запустим генетический алгоритм. За счёт `n_groups=2` получаем 2^3=8 страт, а более длинная эволюция (`population_size=25`, `generations=40`) помогает устойчиво находить решение с минимальной дисперсией."
   ]
  },
  {
   "cell_type": "code",
   "execution_count": 4,
   "id": "14f9e231",
   "metadata": {
    "execution": {
     "iopub.execute_input": "2025-10-22T15:41:05.334143Z",
     "iopub.status.busy": "2025-10-22T15:41:05.333755Z",
     "iopub.status.idle": "2025-10-22T15:41:08.256270Z",
     "shell.execute_reply": "2025-10-22T15:41:08.255019Z"
    }
   },
   "outputs": [
    {
     "data": {
      "text/plain": [
       "(Stratification(boundaries={'color': {'amber': 1, 'ruby': 0, 'teal': 1}, 'shape': {'circle': 0, 'square': 1, 'triangle': 1}, 'age': {'(33.789, 42.273]': 1, '(42.273, 49.913]': 0, '(49.913, 72.161]': 1, '(7.739, 33.789]': 0}}),\n",
       " 0.4990934492798214)"
      ]
     },
     "execution_count": 4,
     "metadata": {},
     "output_type": "execute_result"
    }
   ],
   "source": [
    "stratifier = GeneticStratificationAlgorithm(\n",
    "    strat_columns=['color', 'shape', 'age'],\n",
    "    target_col='y',\n",
    "    population_size=25,\n",
    "    generations=40,\n",
    "    n_groups=2,\n",
    "    random_state=0,\n",
    ")\n",
    "best = stratifier.fit(data)\n",
    "best, stratifier.best_score_"
   ]
  },
  {
   "cell_type": "markdown",
   "id": "7d3c154f",
   "metadata": {},
   "source": [
    "### Преобразование признаков в метку страты\n",
    "\n",
    "После обучения можно заменить несколько категориальных признаков одной колонкой с описанием полученной страты."
   ]
  },
  {
   "cell_type": "code",
   "execution_count": 5,
   "id": "32e3b4fc",
   "metadata": {
    "execution": {
     "iopub.execute_input": "2025-10-22T15:41:08.260813Z",
     "iopub.status.busy": "2025-10-22T15:41:08.259681Z",
     "iopub.status.idle": "2025-10-22T15:41:08.293586Z",
     "shell.execute_reply": "2025-10-22T15:41:08.292570Z"
    }
   },
   "outputs": [
    {
     "name": "stdout",
     "output_type": "stream",
     "text": [
      "\n",
      "Результаты трансформации:\n",
      "  Цельная дисперсия: 11.283086\n",
      "  Стратифицированная дисперсия по исходным комбинациям: 0.013610\n",
      "  Стратифицированная дисперсия после объединения категорий: 0.499093\n",
      "  Стратифицированная дисперсия по сравнению с исходной: понижения нет (рост на 3567.24% относительно исходной стратифицированной дисперсии)\n"
     ]
    },
    {
     "data": {
      "text/html": [
       "<div>\n",
       "<style scoped>\n",
       "    .dataframe tbody tr th:only-of-type {\n",
       "        vertical-align: middle;\n",
       "    }\n",
       "\n",
       "    .dataframe tbody tr th {\n",
       "        vertical-align: top;\n",
       "    }\n",
       "\n",
       "    .dataframe thead th {\n",
       "        text-align: right;\n",
       "    }\n",
       "</style>\n",
       "<table border=\"1\" class=\"dataframe\">\n",
       "  <thead>\n",
       "    <tr style=\"text-align: right;\">\n",
       "      <th></th>\n",
       "      <th>y</th>\n",
       "      <th>strata_label</th>\n",
       "    </tr>\n",
       "  </thead>\n",
       "  <tbody>\n",
       "    <tr>\n",
       "      <th>0</th>\n",
       "      <td>7.018824</td>\n",
       "      <td>strata_5: color={amber, teal}; shape={circle};...</td>\n",
       "    </tr>\n",
       "    <tr>\n",
       "      <th>1</th>\n",
       "      <td>6.974324</td>\n",
       "      <td>strata_3: color={ruby}; shape={square, triangl...</td>\n",
       "    </tr>\n",
       "    <tr>\n",
       "      <th>2</th>\n",
       "      <td>5.598500</td>\n",
       "      <td>strata_2: color={ruby}; shape={square, triangl...</td>\n",
       "    </tr>\n",
       "    <tr>\n",
       "      <th>3</th>\n",
       "      <td>4.552813</td>\n",
       "      <td>strata_3: color={ruby}; shape={square, triangl...</td>\n",
       "    </tr>\n",
       "    <tr>\n",
       "      <th>4</th>\n",
       "      <td>-1.725747</td>\n",
       "      <td>strata_7: color={amber, teal}; shape={square, ...</td>\n",
       "    </tr>\n",
       "  </tbody>\n",
       "</table>\n",
       "</div>"
      ],
      "text/plain": [
       "          y                                       strata_label\n",
       "0  7.018824  strata_5: color={amber, teal}; shape={circle};...\n",
       "1  6.974324  strata_3: color={ruby}; shape={square, triangl...\n",
       "2  5.598500  strata_2: color={ruby}; shape={square, triangl...\n",
       "3  4.552813  strata_3: color={ruby}; shape={square, triangl...\n",
       "4 -1.725747  strata_7: color={amber, teal}; shape={square, ..."
      ]
     },
     "execution_count": 5,
     "metadata": {},
     "output_type": "execute_result"
    }
   ],
   "source": [
    "collapsed = stratifier.transform(data, column_name='strata_label')\n",
    "collapsed.head()"
   ]
  },
  {
   "cell_type": "markdown",
   "id": "0b6889a0",
   "metadata": {},
   "source": [
    "### Сравнение дисперсий\n",
    "\n",
    "Метрики ниже подтверждают, что GenRest значительно уменьшает дисперсию относительно необработанных данных и простых одномерных страт. Сообщение `transform` сравнивает результат с исходными комбинациями всех категориальных признаков, поэтому при сильном уменьшении количества страт оно может показывать рост относительно этого ориентира."
   ]
  },
  {
   "cell_type": "code",
   "execution_count": 6,
   "id": "90f4bf50",
   "metadata": {
    "execution": {
     "iopub.execute_input": "2025-10-22T15:41:08.296821Z",
     "iopub.status.busy": "2025-10-22T15:41:08.296516Z",
     "iopub.status.idle": "2025-10-22T15:41:08.316673Z",
     "shell.execute_reply": "2025-10-22T15:41:08.315914Z"
    }
   },
   "outputs": [
    {
     "name": "stdout",
     "output_type": "stream",
     "text": [
      "Цельная дисперсия: 11.2831\n",
      "Стратификация только по color: 2.3626\n",
      "Стратификация только по shape: 2.4901\n",
      "Стратификация только по age: 2.5067\n",
      "Комбинации всех признаков: 0.0136\n",
      "GenRest после объединения категорий: 0.4991\n",
      "Понижение относительно цельной дисперсии: 95.58%\n"
     ]
    }
   ],
   "source": [
    "from genrest.genetic_stratifier import _weighted_stratified_variance\n",
    "\n",
    "overall_var = data['y'].var(ddof=1)\n",
    "color_var = _weighted_stratified_variance(data['y'], data['color'])\n",
    "shape_var = _weighted_stratified_variance(data['y'], data['shape'])\n",
    "age_var = _weighted_stratified_variance(data['y'], data['age'])\n",
    "baseline_var = _weighted_stratified_variance(\n",
    "    data['y'],\n",
    "    data[['color', 'shape', 'age']].astype(str).agg('|'.join, axis=1),\n",
    ")\n",
    "algo_var = stratifier.best_score_\n",
    "\n",
    "print(f\"Цельная дисперсия: {overall_var:.4f}\")\n",
    "print(f\"Стратификация только по color: {color_var:.4f}\")\n",
    "print(f\"Стратификация только по shape: {shape_var:.4f}\")\n",
    "print(f\"Стратификация только по age: {age_var:.4f}\")\n",
    "print(f\"Комбинации всех признаков: {baseline_var:.4f}\")\n",
    "print(f\"GenRest после объединения категорий: {algo_var:.4f}\")\n",
    "print(f\"Понижение относительно цельной дисперсии: {(1 - algo_var / overall_var) * 100:.2f}%\")"
   ]
  },
  {
   "cell_type": "markdown",
   "id": "ecde439d",
   "metadata": {},
   "source": [
    "## Наследуемые колонки\n",
    "`InheritedGeneticStratificationAlgorithm` позволяет указать признаки, которые нельзя смешивать между стратами.\n",
    "Алгоритм совместим с базовым, а результаты можно комбинировать в одном пайплайне."
   ]
  },
  {
   "cell_type": "code",
   "execution_count": 7,
   "id": "c283cf9e",
   "metadata": {
    "execution": {
     "iopub.execute_input": "2025-10-22T15:41:08.320096Z",
     "iopub.status.busy": "2025-10-22T15:41:08.319778Z",
     "iopub.status.idle": "2025-10-22T15:41:14.508728Z",
     "shell.execute_reply": "2025-10-22T15:41:14.507615Z"
    }
   },
   "outputs": [
    {
     "data": {
      "text/plain": [
       "array([ 0,  6,  6,  7, 11])"
      ]
     },
     "execution_count": 7,
     "metadata": {},
     "output_type": "execute_result"
    }
   ],
   "source": [
    "inherited_algo = InheritedGeneticStratificationAlgorithm(\n",
    "    strat_columns=['color', 'shape', 'age'],\n",
    "    target_col='y',\n",
    "    mandatory_columns=['color'],\n",
    "    n_groups=2,\n",
    "    generations=40,\n",
    "    population_size=25,\n",
    "    random_state=0,\n",
    ")\n",
    "inherited_algo.fit(data)\n",
    "inherited_algo.transform_to_indices(data)[:5]"
   ]
  },
  {
   "cell_type": "markdown",
   "id": "e3e9455a",
   "metadata": {},
   "source": [
    "### Преобразование с описанием страт\n",
    "После обучения можно получить датафрейм с метками, где сочетаются обязательные и объединённые признаки."
   ]
  },
  {
   "cell_type": "code",
   "execution_count": 8,
   "id": "6454c55c",
   "metadata": {
    "execution": {
     "iopub.execute_input": "2025-10-22T15:41:14.511665Z",
     "iopub.status.busy": "2025-10-22T15:41:14.511399Z",
     "iopub.status.idle": "2025-10-22T15:41:14.547130Z",
     "shell.execute_reply": "2025-10-22T15:41:14.546091Z"
    }
   },
   "outputs": [
    {
     "name": "stdout",
     "output_type": "stream",
     "text": [
      "\n",
      "Результаты трансформации с обязательными колонками:\n",
      "  Цельная дисперсия: 11.283086\n",
      "  Стратифицированная дисперсия по исходным комбинациям: 0.013610\n",
      "  Стратифицированная дисперсия после объединения категорий: 0.110075\n",
      "  Стратифицированная дисперсия по сравнению с исходной: понижения нет (рост на 708.81% относительно исходной стратифицированной дисперсии)\n"
     ]
    },
    {
     "data": {
      "text/html": [
       "<div>\n",
       "<style scoped>\n",
       "    .dataframe tbody tr th:only-of-type {\n",
       "        vertical-align: middle;\n",
       "    }\n",
       "\n",
       "    .dataframe tbody tr th {\n",
       "        vertical-align: top;\n",
       "    }\n",
       "\n",
       "    .dataframe thead th {\n",
       "        text-align: right;\n",
       "    }\n",
       "</style>\n",
       "<table border=\"1\" class=\"dataframe\">\n",
       "  <thead>\n",
       "    <tr style=\"text-align: right;\">\n",
       "      <th></th>\n",
       "      <th>color</th>\n",
       "      <th>shape</th>\n",
       "      <th>age</th>\n",
       "      <th>y</th>\n",
       "      <th>inherited_strata</th>\n",
       "    </tr>\n",
       "  </thead>\n",
       "  <tbody>\n",
       "    <tr>\n",
       "      <th>0</th>\n",
       "      <td>amber</td>\n",
       "      <td>circle</td>\n",
       "      <td>(49.913, 72.161]</td>\n",
       "      <td>7.018824</td>\n",
       "      <td>color=amber; strata_0: shape={circle}; age={(4...</td>\n",
       "    </tr>\n",
       "    <tr>\n",
       "      <th>1</th>\n",
       "      <td>ruby</td>\n",
       "      <td>square</td>\n",
       "      <td>(49.913, 72.161]</td>\n",
       "      <td>6.974324</td>\n",
       "      <td>color=ruby; strata_6: shape={square, triangle}...</td>\n",
       "    </tr>\n",
       "    <tr>\n",
       "      <th>2</th>\n",
       "      <td>ruby</td>\n",
       "      <td>square</td>\n",
       "      <td>(42.273, 49.913]</td>\n",
       "      <td>5.598500</td>\n",
       "      <td>color=ruby; strata_6: shape={square, triangle}...</td>\n",
       "    </tr>\n",
       "    <tr>\n",
       "      <th>3</th>\n",
       "      <td>ruby</td>\n",
       "      <td>square</td>\n",
       "      <td>(33.789, 42.273]</td>\n",
       "      <td>4.552813</td>\n",
       "      <td>color=ruby; strata_7: shape={square, triangle}...</td>\n",
       "    </tr>\n",
       "    <tr>\n",
       "      <th>4</th>\n",
       "      <td>teal</td>\n",
       "      <td>square</td>\n",
       "      <td>(33.789, 42.273]</td>\n",
       "      <td>-1.725747</td>\n",
       "      <td>color=teal; strata_11: shape={square, triangle...</td>\n",
       "    </tr>\n",
       "  </tbody>\n",
       "</table>\n",
       "</div>"
      ],
      "text/plain": [
       "   color   shape               age         y  \\\n",
       "0  amber  circle  (49.913, 72.161]  7.018824   \n",
       "1   ruby  square  (49.913, 72.161]  6.974324   \n",
       "2   ruby  square  (42.273, 49.913]  5.598500   \n",
       "3   ruby  square  (33.789, 42.273]  4.552813   \n",
       "4   teal  square  (33.789, 42.273] -1.725747   \n",
       "\n",
       "                                    inherited_strata  \n",
       "0  color=amber; strata_0: shape={circle}; age={(4...  \n",
       "1  color=ruby; strata_6: shape={square, triangle}...  \n",
       "2  color=ruby; strata_6: shape={square, triangle}...  \n",
       "3  color=ruby; strata_7: shape={square, triangle}...  \n",
       "4  color=teal; strata_11: shape={square, triangle...  "
      ]
     },
     "execution_count": 8,
     "metadata": {},
     "output_type": "execute_result"
    }
   ],
   "source": [
    "inherited_view = inherited_algo.transform(\n",
    "    data,\n",
    "    column_name='inherited_strata',\n",
    "    drop_original=False,\n",
    ")\n",
    "inherited_view.head()"
   ]
  },
  {
   "cell_type": "markdown",
   "id": "c1354c0c",
   "metadata": {},
   "source": [
    "### Быстрый запуск через `fit_transform`\n",
    "Если не нужно сохранять объект, используйте сокращённый вызов, который сразу возвращает преобразованные данные."
   ]
  },
  {
   "cell_type": "code",
   "execution_count": 9,
   "id": "29bc7fc1",
   "metadata": {
    "execution": {
     "iopub.execute_input": "2025-10-22T15:41:14.550245Z",
     "iopub.status.busy": "2025-10-22T15:41:14.550002Z",
     "iopub.status.idle": "2025-10-22T15:41:20.202560Z",
     "shell.execute_reply": "2025-10-22T15:41:20.201554Z"
    }
   },
   "outputs": [
    {
     "name": "stdout",
     "output_type": "stream",
     "text": [
      "\n",
      "Результаты трансформации с обязательными колонками:\n",
      "  Цельная дисперсия: 11.283086\n",
      "  Стратифицированная дисперсия по исходным комбинациям: 0.013610\n",
      "  Стратифицированная дисперсия после объединения категорий: 0.110075\n",
      "  Стратифицированная дисперсия по сравнению с исходной: понижения нет (рост на 708.81% относительно исходной стратифицированной дисперсии)\n"
     ]
    },
    {
     "data": {
      "text/html": [
       "<div>\n",
       "<style scoped>\n",
       "    .dataframe tbody tr th:only-of-type {\n",
       "        vertical-align: middle;\n",
       "    }\n",
       "\n",
       "    .dataframe tbody tr th {\n",
       "        vertical-align: top;\n",
       "    }\n",
       "\n",
       "    .dataframe thead th {\n",
       "        text-align: right;\n",
       "    }\n",
       "</style>\n",
       "<table border=\"1\" class=\"dataframe\">\n",
       "  <thead>\n",
       "    <tr style=\"text-align: right;\">\n",
       "      <th></th>\n",
       "      <th>y</th>\n",
       "      <th>quick_strata</th>\n",
       "    </tr>\n",
       "  </thead>\n",
       "  <tbody>\n",
       "    <tr>\n",
       "      <th>0</th>\n",
       "      <td>7.018824</td>\n",
       "      <td>color=amber; strata_0: shape={circle}; age={(4...</td>\n",
       "    </tr>\n",
       "    <tr>\n",
       "      <th>1</th>\n",
       "      <td>6.974324</td>\n",
       "      <td>color=ruby; strata_6: shape={square, triangle}...</td>\n",
       "    </tr>\n",
       "    <tr>\n",
       "      <th>2</th>\n",
       "      <td>5.598500</td>\n",
       "      <td>color=ruby; strata_6: shape={square, triangle}...</td>\n",
       "    </tr>\n",
       "    <tr>\n",
       "      <th>3</th>\n",
       "      <td>4.552813</td>\n",
       "      <td>color=ruby; strata_7: shape={square, triangle}...</td>\n",
       "    </tr>\n",
       "    <tr>\n",
       "      <th>4</th>\n",
       "      <td>-1.725747</td>\n",
       "      <td>color=teal; strata_11: shape={square, triangle...</td>\n",
       "    </tr>\n",
       "  </tbody>\n",
       "</table>\n",
       "</div>"
      ],
      "text/plain": [
       "          y                                       quick_strata\n",
       "0  7.018824  color=amber; strata_0: shape={circle}; age={(4...\n",
       "1  6.974324  color=ruby; strata_6: shape={square, triangle}...\n",
       "2  5.598500  color=ruby; strata_6: shape={square, triangle}...\n",
       "3  4.552813  color=ruby; strata_7: shape={square, triangle}...\n",
       "4 -1.725747  color=teal; strata_11: shape={square, triangle..."
      ]
     },
     "execution_count": 9,
     "metadata": {},
     "output_type": "execute_result"
    }
   ],
   "source": [
    "quick_view = InheritedGeneticStratificationAlgorithm(\n",
    "    strat_columns=['color', 'shape', 'age'],\n",
    "    target_col='y',\n",
    "    mandatory_columns=['color'],\n",
    "    n_groups=2,\n",
    "    generations=40,\n",
    "    population_size=25,\n",
    "    random_state=1,\n",
    ").fit_transform(\n",
    "    data,\n",
    "    column_name='quick_strata',\n",
    "    drop_original=True,\n",
    ")\n",
    "quick_view.head()"
   ]
  },
  {
   "cell_type": "markdown",
   "id": "7f0edbbd",
   "metadata": {},
   "source": [
    "## Стратификация по числовому признаку\n",
    "`bin_numeric` превращает вещественные данные в категории перед запуском алгоритма.\n"
   ]
  },
  {
   "cell_type": "code",
   "execution_count": 10,
   "id": "7f950861",
   "metadata": {
    "execution": {
     "iopub.execute_input": "2025-10-22T15:41:20.206098Z",
     "iopub.status.busy": "2025-10-22T15:41:20.205579Z",
     "iopub.status.idle": "2025-10-22T15:41:20.250047Z",
     "shell.execute_reply": "2025-10-22T15:41:20.248744Z"
    }
   },
   "outputs": [
    {
     "data": {
      "text/plain": [
       "Stratification(boundaries={'x': {'(-0.657, 0.335]': 1, '(-1.7109999999999999, -0.657]': 1, '(0.335, 0.67]': 1, '(0.67, 2.379]': 0}})"
      ]
     },
     "execution_count": 10,
     "metadata": {},
     "output_type": "execute_result"
    }
   ],
   "source": [
    "df = pd.DataFrame({'x': rng.normal(size=20), 'y': rng.normal(size=20)})\n",
    "bin_numeric(df, 'x', bins=4)\n",
    "GeneticStratificationAlgorithm(['x'], 'y', population_size=5, generations=5, n_groups=2, random_state=0).fit(df)"
   ]
  }
 ],
 "metadata": {
  "kernelspec": {
   "display_name": "Python 3",
   "language": "python",
   "name": "python3"
  },
  "language_info": {
   "codemirror_mode": {
    "name": "ipython",
    "version": 3
   },
   "file_extension": ".py",
   "mimetype": "text/x-python",
   "name": "python",
   "nbconvert_exporter": "python",
   "pygments_lexer": "ipython3",
   "version": "3.12.10"
  }
 },
 "nbformat": 4,
 "nbformat_minor": 5
}
