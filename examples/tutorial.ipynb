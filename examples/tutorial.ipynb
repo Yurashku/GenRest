{
 "cells": [
  {
   "cell_type": "markdown",
   "metadata": {},
   "source": [
    "# GenRest tutorial\n",
    "This tutorial uses synthetic data to demonstrate the genetic stratifier."
   ]
  },
  {
   "cell_type": "code",
   "execution_count": null,
   "metadata": {},
   "outputs": [],
   "source": [
    "import numpy as np\n",
    "import pandas as pd\n",
    "from genrest.genetic_stratifier import GeneticStratifier"
   ]
  },
  {
   "cell_type": "code",
   "execution_count": null,
   "metadata": {},
   "outputs": [],
   "source": [
    "rng = np.random.default_rng(0)\n",
    "x1 = rng.normal(0,1,1000)\n",
    "x2 = rng.normal(5,2,1000)\n",
    "y = x1*0.5 + x2*0.2 + rng.normal(0,1,1000)\n",
    "data = pd.DataFrame({'x1': x1, 'x2': x2, 'y': y})\n",
    "data.head()"
   ]
  },
  {
   "cell_type": "code",
   "execution_count": null,
   "metadata": {},
   "outputs": [],
   "source": [
    "stratifier = GeneticStratifier(strat_columns=['x1','x2'], target_col='y', population_size=10, generations=5, random_state=0)\n",
    "best = stratifier.fit(data)\n",
    "best, stratifier.best_score_"
   ]
  }
 ],
 "metadata": {
  "kernelspec": {
   "display_name": "Python 3",
   "language": "python",
   "name": "python3"
  },
  "language_info": {
   "file_extension": ".py",
   "mimetype": "text/x-python",
   "name": "python",
   "pygments_lexer": "ipython3",
   "version": "3.9"
  }
 },
 "nbformat": 4,
 "nbformat_minor": 5
}
