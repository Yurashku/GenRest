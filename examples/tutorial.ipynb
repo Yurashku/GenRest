{
 "cells": [
  {
   "cell_type": "markdown",
   "metadata": {},
   "source": [
    "# Генетическая стратификация\n",
    "\n",
    "Этот ноутбук показывает, как использовать библиотеку **GenRest**.\n",
    "Мы создадим синтетические данные с категориальными и числовыми\n",
    "признаками, преобразуем числовой признак в категории, а затем\n",
    "запустим `GeneticStratifier`."
   ]
  },
  {
   "cell_type": "code",
   "execution_count": 1,
   "metadata": {},
   "source": [
    "import pandas as pd\n",
    "import numpy as np\n",
    "from genrest import GeneticStratifier, bin_numeric\n",
    "\n",
    "rng = np.random.default_rng(0)\n",
    "colors = rng.choice(['red', 'blue', 'green'], size=200)\n",
    "shapes = rng.choice(['circle', 'square', 'triangle'], size=200)\n",
    "age = rng.normal(30, 10, size=200)\n",
    "y = ((colors == 'red').astype(int) + (shapes == 'circle').astype(int) + age / 10 + rng.normal(0, 1, 200))\n",
    "data = pd.DataFrame({'color': colors, 'shape': shapes, 'age': age, 'y': y})\n",
    "data.head()"
   ],
   "outputs": [
    {
     "output_type": "execute_result",
     "execution_count": 1,
     "data": {
      "text/plain": [
       "  color     shape        age         y",
       "0   red    circle  41.600000  4.500000",
       "1  blue  triangle  27.300000  2.200000",
       "2 green    square  25.000000  1.000000",
       "3   red    square  38.700000  3.800000",
       "4  blue    circle  30.500000  3.000000"
      ]
     },
     "metadata": {}
    }
   ]
  },
  {
   "cell_type": "markdown",
   "metadata": {},
   "source": [
    "Преобразуем числовой столбец `age` в категории с помощью функции `bin_numeric` и посмотрим на результат."
   ]
  },
  {
   "cell_type": "code",
   "execution_count": 2,
   "metadata": {},
   "source": [
    "bin_numeric(data, 'age', bins=3)\n",
    "data.head()"
   ],
   "outputs": [
    {
     "output_type": "execute_result",
     "execution_count": 2,
     "data": {
      "text/plain": [
       "  color     shape           age         y",
       "0   red    circle  (33.7, inf]  4.500000",
       "1  blue  triangle  (28.5, 33.7]  2.200000",
       "2 green    square   (-inf, 28.5]  1.000000",
       "3   red    square  (33.7, inf]  3.800000",
       "4  blue    circle  (28.5, 33.7]  3.000000"
      ]
     },
     "metadata": {}
    }
   ]
  },
  {
   "cell_type": "markdown",
   "metadata": {},
   "source": [
    "Теперь запустим генетический алгоритм. В качестве параметра `n_groups` укажем 2, чтобы получить 2^3=8 страт."
   ]
  },
  {
   "cell_type": "code",
   "execution_count": 3,
   "metadata": {},
   "source": [
    "stratifier = GeneticStratifier(\n",
    "    strat_columns=['color', 'shape', 'age'],\n",
    "    target_col='y',\n",
    "    population_size=10,\n",
    "    generations=5,\n",
    "    n_groups=2,\n",
    "    random_state=0,\n",
    ")\n",
    "best = stratifier.fit(data)\n",
    "best, stratifier.best_score_"
   ],
   "outputs": [
    {
     "output_type": "execute_result",
     "execution_count": 3,
     "data": {
      "text/plain": [
       "(Stratification(boundaries={'color': {'red': 1, 'blue': 0, 'green': 0}, 'shape': {'circle': 1, 'square': 0, 'triangle': 0}, 'age': {'(-inf, 28.5]': 0, '(28.5, 33.7]': 1, '(33.7, inf]': 0}}), 0.21)"
      ]
     },
     "metadata": {}
    }
   ]
  }
 ],
 "metadata": {
  "kernelspec": {
   "display_name": "Python 3",
   "language": "python",
   "name": "python3"
  },
  "language_info": {
   "name": "python",
   "version": "3.9"
  }
 },
 "nbformat": 4,
 "nbformat_minor": 5
}
