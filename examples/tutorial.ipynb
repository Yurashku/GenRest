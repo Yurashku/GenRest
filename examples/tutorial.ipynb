{
 "cells": [
  {
   "cell_type": "code",
   "execution_count": 1,
   "id": "54fe39b4",
   "metadata": {
    "execution": {
     "iopub.execute_input": "2025-10-22T14:47:58.050207Z",
     "iopub.status.busy": "2025-10-22T14:47:58.049912Z",
     "iopub.status.idle": "2025-10-22T14:47:58.056050Z",
     "shell.execute_reply": "2025-10-22T14:47:58.054863Z"
    }
   },
   "outputs": [],
   "source": [
    "import sys\n",
    "from pathlib import Path\n",
    "project_root = Path.cwd().resolve().parent\n",
    "if str(project_root) not in sys.path:\n",
    "    sys.path.insert(0, str(project_root))\n"
   ]
  },
  {
   "cell_type": "markdown",
   "id": "a4ca3c8a",
   "metadata": {},
   "source": [
    "# Генетическая стратификация\n",
    "\n",
    "Этот ноутбук показывает, как использовать взаимозаменяемые алгоритмы **GenRest**.\n",
    "Мы создадим синтетические данные с категориальными и числовыми\n",
    "признаками, преобразуем числовой признак в категории, а затем\n",
    "запустим `GeneticStratificationAlgorithm`."
   ]
  },
  {
   "cell_type": "code",
   "execution_count": 2,
   "id": "b77f4238",
   "metadata": {
    "execution": {
     "iopub.execute_input": "2025-10-22T14:47:58.058938Z",
     "iopub.status.busy": "2025-10-22T14:47:58.058676Z",
     "iopub.status.idle": "2025-10-22T14:47:58.501285Z",
     "shell.execute_reply": "2025-10-22T14:47:58.500402Z"
    }
   },
   "outputs": [
    {
     "data": {
      "text/html": [
       "<div>\n",
       "<style scoped>\n",
       "    .dataframe tbody tr th:only-of-type {\n",
       "        vertical-align: middle;\n",
       "    }\n",
       "\n",
       "    .dataframe tbody tr th {\n",
       "        vertical-align: top;\n",
       "    }\n",
       "\n",
       "    .dataframe thead th {\n",
       "        text-align: right;\n",
       "    }\n",
       "</style>\n",
       "<table border=\"1\" class=\"dataframe\">\n",
       "  <thead>\n",
       "    <tr style=\"text-align: right;\">\n",
       "      <th></th>\n",
       "      <th>color</th>\n",
       "      <th>shape</th>\n",
       "      <th>age</th>\n",
       "      <th>y</th>\n",
       "    </tr>\n",
       "  </thead>\n",
       "  <tbody>\n",
       "    <tr>\n",
       "      <th>0</th>\n",
       "      <td>green</td>\n",
       "      <td>circle</td>\n",
       "      <td>24.143422</td>\n",
       "      <td>2.318870</td>\n",
       "    </tr>\n",
       "    <tr>\n",
       "      <th>1</th>\n",
       "      <td>blue</td>\n",
       "      <td>square</td>\n",
       "      <td>25.274123</td>\n",
       "      <td>2.889915</td>\n",
       "    </tr>\n",
       "    <tr>\n",
       "      <th>2</th>\n",
       "      <td>blue</td>\n",
       "      <td>circle</td>\n",
       "      <td>35.863373</td>\n",
       "      <td>5.030329</td>\n",
       "    </tr>\n",
       "    <tr>\n",
       "      <th>3</th>\n",
       "      <td>red</td>\n",
       "      <td>circle</td>\n",
       "      <td>23.364648</td>\n",
       "      <td>3.976025</td>\n",
       "    </tr>\n",
       "    <tr>\n",
       "      <th>4</th>\n",
       "      <td>red</td>\n",
       "      <td>triangle</td>\n",
       "      <td>23.865822</td>\n",
       "      <td>3.970116</td>\n",
       "    </tr>\n",
       "  </tbody>\n",
       "</table>\n",
       "</div>"
      ],
      "text/plain": [
       "   color     shape        age         y\n",
       "0  green    circle  24.143422  2.318870\n",
       "1   blue    square  25.274123  2.889915\n",
       "2   blue    circle  35.863373  5.030329\n",
       "3    red    circle  23.364648  3.976025\n",
       "4    red  triangle  23.865822  3.970116"
      ]
     },
     "execution_count": 2,
     "metadata": {},
     "output_type": "execute_result"
    }
   ],
   "source": [
    "import pandas as pd\n",
    "import numpy as np\n",
    "from genrest import (\n",
    "    GeneticStratificationAlgorithm,\n",
    "    InheritedGeneticStratificationAlgorithm,\n",
    "    bin_numeric,\n",
    ")\n",
    "\n",
    "rng = np.random.default_rng(0)\n",
    "colors = rng.choice(['red', 'blue', 'green'], size=200)\n",
    "shapes = rng.choice(['circle', 'square', 'triangle'], size=200)\n",
    "age = rng.normal(30, 10, size=200)\n",
    "y = ((colors == 'red').astype(int) + (shapes == 'circle').astype(int) + age / 10 + rng.normal(0, 1, 200))\n",
    "data = pd.DataFrame({'color': colors, 'shape': shapes, 'age': age, 'y': y})\n",
    "data.head()"
   ]
  },
  {
   "cell_type": "markdown",
   "id": "c7fd183c",
   "metadata": {},
   "source": [
    "Преобразуем числовой столбец `age` в категории с помощью функции `bin_numeric` и посмотрим на результат."
   ]
  },
  {
   "cell_type": "code",
   "execution_count": 3,
   "id": "1ba99661",
   "metadata": {
    "execution": {
     "iopub.execute_input": "2025-10-22T14:47:58.503947Z",
     "iopub.status.busy": "2025-10-22T14:47:58.503529Z",
     "iopub.status.idle": "2025-10-22T14:47:58.517425Z",
     "shell.execute_reply": "2025-10-22T14:47:58.515867Z"
    }
   },
   "outputs": [
    {
     "data": {
      "text/html": [
       "<div>\n",
       "<style scoped>\n",
       "    .dataframe tbody tr th:only-of-type {\n",
       "        vertical-align: middle;\n",
       "    }\n",
       "\n",
       "    .dataframe tbody tr th {\n",
       "        vertical-align: top;\n",
       "    }\n",
       "\n",
       "    .dataframe thead th {\n",
       "        text-align: right;\n",
       "    }\n",
       "</style>\n",
       "<table border=\"1\" class=\"dataframe\">\n",
       "  <thead>\n",
       "    <tr style=\"text-align: right;\">\n",
       "      <th></th>\n",
       "      <th>color</th>\n",
       "      <th>shape</th>\n",
       "      <th>age</th>\n",
       "      <th>y</th>\n",
       "    </tr>\n",
       "  </thead>\n",
       "  <tbody>\n",
       "    <tr>\n",
       "      <th>0</th>\n",
       "      <td>green</td>\n",
       "      <td>circle</td>\n",
       "      <td>(-7.724, 24.159]</td>\n",
       "      <td>2.318870</td>\n",
       "    </tr>\n",
       "    <tr>\n",
       "      <th>1</th>\n",
       "      <td>blue</td>\n",
       "      <td>square</td>\n",
       "      <td>(24.159, 32.989]</td>\n",
       "      <td>2.889915</td>\n",
       "    </tr>\n",
       "    <tr>\n",
       "      <th>2</th>\n",
       "      <td>blue</td>\n",
       "      <td>circle</td>\n",
       "      <td>(32.989, 60.66]</td>\n",
       "      <td>5.030329</td>\n",
       "    </tr>\n",
       "    <tr>\n",
       "      <th>3</th>\n",
       "      <td>red</td>\n",
       "      <td>circle</td>\n",
       "      <td>(-7.724, 24.159]</td>\n",
       "      <td>3.976025</td>\n",
       "    </tr>\n",
       "    <tr>\n",
       "      <th>4</th>\n",
       "      <td>red</td>\n",
       "      <td>triangle</td>\n",
       "      <td>(-7.724, 24.159]</td>\n",
       "      <td>3.970116</td>\n",
       "    </tr>\n",
       "  </tbody>\n",
       "</table>\n",
       "</div>"
      ],
      "text/plain": [
       "   color     shape               age         y\n",
       "0  green    circle  (-7.724, 24.159]  2.318870\n",
       "1   blue    square  (24.159, 32.989]  2.889915\n",
       "2   blue    circle   (32.989, 60.66]  5.030329\n",
       "3    red    circle  (-7.724, 24.159]  3.976025\n",
       "4    red  triangle  (-7.724, 24.159]  3.970116"
      ]
     },
     "execution_count": 3,
     "metadata": {},
     "output_type": "execute_result"
    }
   ],
   "source": [
    "bin_numeric(data, 'age', bins=3)\n",
    "data.head()"
   ]
  },
  {
   "cell_type": "markdown",
   "id": "2c35407e",
   "metadata": {},
   "source": [
    "Теперь запустим генетический алгоритм. В качестве параметра `n_groups` укажем 2, чтобы получить 2^3=8 страт."
   ]
  },
  {
   "cell_type": "code",
   "execution_count": 4,
   "id": "14f9e231",
   "metadata": {
    "execution": {
     "iopub.execute_input": "2025-10-22T14:47:58.520046Z",
     "iopub.status.busy": "2025-10-22T14:47:58.519799Z",
     "iopub.status.idle": "2025-10-22T14:47:58.657084Z",
     "shell.execute_reply": "2025-10-22T14:47:58.655587Z"
    }
   },
   "outputs": [
    {
     "data": {
      "text/plain": [
       "(Stratification(boundaries={'color': {'blue': 1, 'green': 1, 'red': 0}, 'shape': {'circle': 0, 'square': 1, 'triangle': 1}, 'age': {'(-7.724, 24.159]': 0, '(24.159, 32.989]': 1, '(32.989, 60.66]': 1}}),\n",
       " 0.26765792014745565)"
      ]
     },
     "execution_count": 4,
     "metadata": {},
     "output_type": "execute_result"
    }
   ],
   "source": [
    "stratifier = GeneticStratificationAlgorithm(\n",
    "    strat_columns=['color', 'shape', 'age'],\n",
    "    target_col='y',\n",
    "    population_size=10,\n",
    "    generations=5,\n",
    "    n_groups=2,\n",
    "    random_state=0,\n",
    ")\n",
    "best = stratifier.fit(data)\n",
    "best, stratifier.best_score_"
   ]
  },
  {
   "cell_type": "markdown",
   "id": "7d3c154f",
   "metadata": {},
   "source": [
    "### Преобразование признаков в метку страты\n",
    "\n",
    "После обучения можно заменить несколько категориальных признаков одной колонкой с описанием полученной страты."
   ]
  },
  {
   "cell_type": "code",
   "execution_count": 5,
   "id": "32e3b4fc",
   "metadata": {
    "execution": {
     "iopub.execute_input": "2025-10-22T14:47:58.659359Z",
     "iopub.status.busy": "2025-10-22T14:47:58.659163Z",
     "iopub.status.idle": "2025-10-22T14:47:58.679277Z",
     "shell.execute_reply": "2025-10-22T14:47:58.678239Z"
    }
   },
   "outputs": [
    {
     "name": "stdout",
     "output_type": "stream",
     "text": [
      "\n",
      "Результаты трансформации:\n",
      "  Цельная дисперсия: 2.536092\n",
      "  Стратифицированная дисперсия по исходным комбинациям: 0.054331\n",
      "  Стратифицированная дисперсия после объединения категорий: 0.267658\n",
      "  Стратифицированная дисперсия по сравнению с исходной: понижения нет (рост на 392.64% относительно исходной стратифицированной дисперсии)\n"
     ]
    },
    {
     "data": {
      "text/html": [
       "<div>\n",
       "<style scoped>\n",
       "    .dataframe tbody tr th:only-of-type {\n",
       "        vertical-align: middle;\n",
       "    }\n",
       "\n",
       "    .dataframe tbody tr th {\n",
       "        vertical-align: top;\n",
       "    }\n",
       "\n",
       "    .dataframe thead th {\n",
       "        text-align: right;\n",
       "    }\n",
       "</style>\n",
       "<table border=\"1\" class=\"dataframe\">\n",
       "  <thead>\n",
       "    <tr style=\"text-align: right;\">\n",
       "      <th></th>\n",
       "      <th>y</th>\n",
       "      <th>strata_label</th>\n",
       "    </tr>\n",
       "  </thead>\n",
       "  <tbody>\n",
       "    <tr>\n",
       "      <th>0</th>\n",
       "      <td>2.318870</td>\n",
       "      <td>strata_4: color={blue, green}; shape={circle};...</td>\n",
       "    </tr>\n",
       "    <tr>\n",
       "      <th>1</th>\n",
       "      <td>2.889915</td>\n",
       "      <td>strata_7: color={blue, green}; shape={square, ...</td>\n",
       "    </tr>\n",
       "    <tr>\n",
       "      <th>2</th>\n",
       "      <td>5.030329</td>\n",
       "      <td>strata_5: color={blue, green}; shape={circle};...</td>\n",
       "    </tr>\n",
       "    <tr>\n",
       "      <th>3</th>\n",
       "      <td>3.976025</td>\n",
       "      <td>strata_0: color={red}; shape={circle}; age={(-...</td>\n",
       "    </tr>\n",
       "    <tr>\n",
       "      <th>4</th>\n",
       "      <td>3.970116</td>\n",
       "      <td>strata_2: color={red}; shape={square, triangle...</td>\n",
       "    </tr>\n",
       "  </tbody>\n",
       "</table>\n",
       "</div>"
      ],
      "text/plain": [
       "          y                                       strata_label\n",
       "0  2.318870  strata_4: color={blue, green}; shape={circle};...\n",
       "1  2.889915  strata_7: color={blue, green}; shape={square, ...\n",
       "2  5.030329  strata_5: color={blue, green}; shape={circle};...\n",
       "3  3.976025  strata_0: color={red}; shape={circle}; age={(-...\n",
       "4  3.970116  strata_2: color={red}; shape={square, triangle..."
      ]
     },
     "execution_count": 5,
     "metadata": {},
     "output_type": "execute_result"
    }
   ],
   "source": [
    "collapsed = stratifier.transform(data, column_name='strata_label')\n",
    "collapsed.head()"
   ]
  },
  {
   "cell_type": "markdown",
   "id": "ecde439d",
   "metadata": {},
   "source": [
    "## Наследуемые колонки\n",
    "`InheritedGeneticStratificationAlgorithm` позволяет указать признаки, которые нельзя смешивать между стратами.\n",
    "Алгоритм совместим с базовым, а результаты можно комбинировать в одном пайплайне."
   ]
  },
  {
   "cell_type": "code",
   "execution_count": 6,
   "id": "c283cf9e",
   "metadata": {
    "execution": {
     "iopub.execute_input": "2025-10-22T14:47:58.681815Z",
     "iopub.status.busy": "2025-10-22T14:47:58.681493Z",
     "iopub.status.idle": "2025-10-22T14:47:58.951507Z",
     "shell.execute_reply": "2025-10-22T14:47:58.950549Z"
    }
   },
   "outputs": [
    {
     "data": {
      "text/plain": [
       "array([ 1,  7,  5,  8, 10])"
      ]
     },
     "execution_count": 6,
     "metadata": {},
     "output_type": "execute_result"
    }
   ],
   "source": [
    "inherited_algo = InheritedGeneticStratificationAlgorithm(\n",
    "    strat_columns=['color', 'shape', 'age'],\n",
    "    target_col='y',\n",
    "    mandatory_columns=['color'],\n",
    "    n_groups=2,\n",
    "    generations=5,\n",
    "    population_size=10,\n",
    "    random_state=0,\n",
    ")\n",
    "inherited_algo.fit(data)\n",
    "inherited_algo.transform_to_indices(data)[:5]"
   ]
  },
  {
   "cell_type": "markdown",
   "id": "e3e9455a",
   "metadata": {},
   "source": [
    "### Преобразование с описанием страт\n",
    "После обучения можно получить датафрейм с метками, где сочетаются обязательные и объединённые признаки."
   ]
  },
  {
   "cell_type": "code",
   "execution_count": 7,
   "id": "6454c55c",
   "metadata": {
    "execution": {
     "iopub.execute_input": "2025-10-22T14:47:58.954188Z",
     "iopub.status.busy": "2025-10-22T14:47:58.953952Z",
     "iopub.status.idle": "2025-10-22T14:47:58.983199Z",
     "shell.execute_reply": "2025-10-22T14:47:58.981456Z"
    }
   },
   "outputs": [
    {
     "name": "stdout",
     "output_type": "stream",
     "text": [
      "\n",
      "Результаты трансформации с обязательными колонками:\n",
      "  Цельная дисперсия: 2.536092\n",
      "  Стратифицированная дисперсия по исходным комбинациям: 0.054331\n",
      "  Стратифицированная дисперсия после объединения категорий: 0.139690\n",
      "  Стратифицированная дисперсия по сравнению с исходной: понижения нет (рост на 157.11% относительно исходной стратифицированной дисперсии)\n"
     ]
    },
    {
     "data": {
      "text/html": [
       "<div>\n",
       "<style scoped>\n",
       "    .dataframe tbody tr th:only-of-type {\n",
       "        vertical-align: middle;\n",
       "    }\n",
       "\n",
       "    .dataframe tbody tr th {\n",
       "        vertical-align: top;\n",
       "    }\n",
       "\n",
       "    .dataframe thead th {\n",
       "        text-align: right;\n",
       "    }\n",
       "</style>\n",
       "<table border=\"1\" class=\"dataframe\">\n",
       "  <thead>\n",
       "    <tr style=\"text-align: right;\">\n",
       "      <th></th>\n",
       "      <th>color</th>\n",
       "      <th>shape</th>\n",
       "      <th>age</th>\n",
       "      <th>y</th>\n",
       "      <th>inherited_strata</th>\n",
       "    </tr>\n",
       "  </thead>\n",
       "  <tbody>\n",
       "    <tr>\n",
       "      <th>0</th>\n",
       "      <td>green</td>\n",
       "      <td>circle</td>\n",
       "      <td>(-7.724, 24.159]</td>\n",
       "      <td>2.318870</td>\n",
       "      <td>color=green; strata_1: shape={circle}; age={(-...</td>\n",
       "    </tr>\n",
       "    <tr>\n",
       "      <th>1</th>\n",
       "      <td>blue</td>\n",
       "      <td>square</td>\n",
       "      <td>(24.159, 32.989]</td>\n",
       "      <td>2.889915</td>\n",
       "      <td>color=blue; strata_7: shape={square, triangle}...</td>\n",
       "    </tr>\n",
       "    <tr>\n",
       "      <th>2</th>\n",
       "      <td>blue</td>\n",
       "      <td>circle</td>\n",
       "      <td>(32.989, 60.66]</td>\n",
       "      <td>5.030329</td>\n",
       "      <td>color=blue; strata_5: shape={circle}; age={(24...</td>\n",
       "    </tr>\n",
       "    <tr>\n",
       "      <th>3</th>\n",
       "      <td>red</td>\n",
       "      <td>circle</td>\n",
       "      <td>(-7.724, 24.159]</td>\n",
       "      <td>3.976025</td>\n",
       "      <td>color=red; strata_8: shape={circle}; age={(-7....</td>\n",
       "    </tr>\n",
       "    <tr>\n",
       "      <th>4</th>\n",
       "      <td>red</td>\n",
       "      <td>triangle</td>\n",
       "      <td>(-7.724, 24.159]</td>\n",
       "      <td>3.970116</td>\n",
       "      <td>color=red; strata_10: shape={square, triangle}...</td>\n",
       "    </tr>\n",
       "  </tbody>\n",
       "</table>\n",
       "</div>"
      ],
      "text/plain": [
       "   color     shape               age         y  \\\n",
       "0  green    circle  (-7.724, 24.159]  2.318870   \n",
       "1   blue    square  (24.159, 32.989]  2.889915   \n",
       "2   blue    circle   (32.989, 60.66]  5.030329   \n",
       "3    red    circle  (-7.724, 24.159]  3.976025   \n",
       "4    red  triangle  (-7.724, 24.159]  3.970116   \n",
       "\n",
       "                                    inherited_strata  \n",
       "0  color=green; strata_1: shape={circle}; age={(-...  \n",
       "1  color=blue; strata_7: shape={square, triangle}...  \n",
       "2  color=blue; strata_5: shape={circle}; age={(24...  \n",
       "3  color=red; strata_8: shape={circle}; age={(-7....  \n",
       "4  color=red; strata_10: shape={square, triangle}...  "
      ]
     },
     "execution_count": 7,
     "metadata": {},
     "output_type": "execute_result"
    }
   ],
   "source": [
    "inherited_view = inherited_algo.transform(\n",
    "    data,\n",
    "    column_name='inherited_strata',\n",
    "    drop_original=False,\n",
    ")\n",
    "inherited_view.head()"
   ]
  },
  {
   "cell_type": "markdown",
   "id": "c1354c0c",
   "metadata": {},
   "source": [
    "### Быстрый запуск через `fit_transform`\n",
    "Если не нужно сохранять объект, используйте сокращённый вызов, который сразу возвращает преобразованные данные."
   ]
  },
  {
   "cell_type": "code",
   "execution_count": 8,
   "id": "29bc7fc1",
   "metadata": {
    "execution": {
     "iopub.execute_input": "2025-10-22T14:47:58.985681Z",
     "iopub.status.busy": "2025-10-22T14:47:58.985354Z",
     "iopub.status.idle": "2025-10-22T14:47:59.253562Z",
     "shell.execute_reply": "2025-10-22T14:47:59.252863Z"
    }
   },
   "outputs": [
    {
     "name": "stdout",
     "output_type": "stream",
     "text": [
      "\n",
      "Результаты трансформации с обязательными колонками:\n",
      "  Цельная дисперсия: 2.536092\n",
      "  Стратифицированная дисперсия по исходным комбинациям: 0.054331\n",
      "  Стратифицированная дисперсия после объединения категорий: 0.139690\n",
      "  Стратифицированная дисперсия по сравнению с исходной: понижения нет (рост на 157.11% относительно исходной стратифицированной дисперсии)\n"
     ]
    },
    {
     "data": {
      "text/html": [
       "<div>\n",
       "<style scoped>\n",
       "    .dataframe tbody tr th:only-of-type {\n",
       "        vertical-align: middle;\n",
       "    }\n",
       "\n",
       "    .dataframe tbody tr th {\n",
       "        vertical-align: top;\n",
       "    }\n",
       "\n",
       "    .dataframe thead th {\n",
       "        text-align: right;\n",
       "    }\n",
       "</style>\n",
       "<table border=\"1\" class=\"dataframe\">\n",
       "  <thead>\n",
       "    <tr style=\"text-align: right;\">\n",
       "      <th></th>\n",
       "      <th>y</th>\n",
       "      <th>quick_strata</th>\n",
       "    </tr>\n",
       "  </thead>\n",
       "  <tbody>\n",
       "    <tr>\n",
       "      <th>0</th>\n",
       "      <td>2.318870</td>\n",
       "      <td>color=green; strata_0: shape={circle}; age={(-...</td>\n",
       "    </tr>\n",
       "    <tr>\n",
       "      <th>1</th>\n",
       "      <td>2.889915</td>\n",
       "      <td>color=blue; strata_6: shape={square, triangle}...</td>\n",
       "    </tr>\n",
       "    <tr>\n",
       "      <th>2</th>\n",
       "      <td>5.030329</td>\n",
       "      <td>color=blue; strata_4: shape={circle}; age={(24...</td>\n",
       "    </tr>\n",
       "    <tr>\n",
       "      <th>3</th>\n",
       "      <td>3.976025</td>\n",
       "      <td>color=red; strata_9: shape={circle}; age={(-7....</td>\n",
       "    </tr>\n",
       "    <tr>\n",
       "      <th>4</th>\n",
       "      <td>3.970116</td>\n",
       "      <td>color=red; strata_11: shape={square, triangle}...</td>\n",
       "    </tr>\n",
       "  </tbody>\n",
       "</table>\n",
       "</div>"
      ],
      "text/plain": [
       "          y                                       quick_strata\n",
       "0  2.318870  color=green; strata_0: shape={circle}; age={(-...\n",
       "1  2.889915  color=blue; strata_6: shape={square, triangle}...\n",
       "2  5.030329  color=blue; strata_4: shape={circle}; age={(24...\n",
       "3  3.976025  color=red; strata_9: shape={circle}; age={(-7....\n",
       "4  3.970116  color=red; strata_11: shape={square, triangle}..."
      ]
     },
     "execution_count": 8,
     "metadata": {},
     "output_type": "execute_result"
    }
   ],
   "source": [
    "quick_view = InheritedGeneticStratificationAlgorithm(\n",
    "    strat_columns=['color', 'shape', 'age'],\n",
    "    target_col='y',\n",
    "    mandatory_columns=['color'],\n",
    "    n_groups=2,\n",
    "    generations=5,\n",
    "    population_size=10,\n",
    "    random_state=1,\n",
    ").fit_transform(\n",
    "    data,\n",
    "    column_name='quick_strata',\n",
    "    drop_original=True,\n",
    ")\n",
    "quick_view.head()"
   ]
  },
  {
   "cell_type": "markdown",
   "id": "7f0edbbd",
   "metadata": {},
   "source": [
    "## Стратификация по числовому признаку\n",
    "`bin_numeric` превращает вещественные данные в категории перед запуском алгоритма.\n"
   ]
  },
  {
   "cell_type": "code",
   "execution_count": 9,
   "id": "7f950861",
   "metadata": {
    "execution": {
     "iopub.execute_input": "2025-10-22T14:47:59.257956Z",
     "iopub.status.busy": "2025-10-22T14:47:59.257664Z",
     "iopub.status.idle": "2025-10-22T14:47:59.293184Z",
     "shell.execute_reply": "2025-10-22T14:47:59.292360Z"
    }
   },
   "outputs": [
    {
     "data": {
      "text/plain": [
       "Stratification(boundaries={'x': {'(-0.245, 0.225]': 1, '(-1.203, -0.245]': 1, '(-2.423, -1.203]': 1, '(0.225, 2.278]': 0}})"
      ]
     },
     "execution_count": 9,
     "metadata": {},
     "output_type": "execute_result"
    }
   ],
   "source": [
    "df = pd.DataFrame({'x': rng.normal(size=20), 'y': rng.normal(size=20)})\n",
    "bin_numeric(df, 'x', bins=4)\n",
    "GeneticStratificationAlgorithm(['x'], 'y', population_size=5, generations=5, n_groups=2, random_state=0).fit(df)"
   ]
  }
 ],
 "metadata": {
  "kernelspec": {
   "display_name": "Python 3",
   "language": "python",
   "name": "python3"
  },
  "language_info": {
   "codemirror_mode": {
    "name": "ipython",
    "version": 3
   },
   "file_extension": ".py",
   "mimetype": "text/x-python",
   "name": "python",
   "nbconvert_exporter": "python",
   "pygments_lexer": "ipython3",
   "version": "3.12.10"
  }
 },
 "nbformat": 4,
 "nbformat_minor": 5
}
